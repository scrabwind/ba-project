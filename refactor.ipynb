{
 "cells": [
  {
   "cell_type": "code",
   "execution_count": 333,
   "metadata": {
    "collapsed": true
   },
   "outputs": [],
   "source": [
    "import numpy as np\n",
    "from PIL import Image\n",
    "import fitz\n",
    "from pytesseract import image_to_data, Output\n",
    "from io import BytesIO\n",
    "import pandas as pd\n",
    "from os import makedirs"
   ]
  },
  {
   "cell_type": "code",
   "execution_count": 334,
   "metadata": {
    "collapsed": false
   },
   "outputs": [],
   "source": [
    "def merge_rows(df):\n",
    "    \"\"\"\n",
    "    Merges rows in a dataframe, merging first row with second, second with third, etc. \n",
    "    If there are less than 5 rows, fills missing values with None.\n",
    "    \n",
    "    Args:\n",
    "        df (pd.DataFrame): Input DataFrame to merge\n",
    "        \n",
    "    Returns:\n",
    "        pd.Series: Merged series\n",
    "    \"\"\"\n",
    "\n",
    "    # Group by 'page_num' and 'par_num', then join the  't'\n",
    "    merged = df.groupby(['page_num', 'par_num'])[['text','line_num']].apply(lambda g: pd.Series({'text': ' '.join(g['text']), 'line_num': g['line_num'].min()}))\n",
    "    \n",
    "    # If there are more than 5 rows, merge them into one until there are only five left\n",
    "    while len(merged) > 5:\n",
    "        merged = pd.concat([merged, merged.iloc[-1:]])\n",
    "        \n",
    "    return merged['text'].reset_index(level=['page_num', 'par_num'], drop=True).squeeze()"
   ]
  },
  {
   "cell_type": "code",
   "execution_count": 335,
   "metadata": {
    "collapsed": false
   },
   "outputs": [],
   "source": [
    "def crop_pdf(passed_page, start_word: str, end_word: str, dpi=300):\n",
    "    pg = passed_page\n",
    "    page_width = round(pg.rect.width)\n",
    "    start_rect = pg.get_textpage_ocr(3, \"pol\", dpi, True).search(start_word)[0].rect\n",
    "    end_rect = pg.get_textpage_ocr(3, \"pol\", dpi, True).search(end_word)[0].rect\n",
    "    start_y = start_rect.round().bottom_left[1]\n",
    "    end_y = end_rect.round().top_left[1]\n",
    "    pg.set_cropbox(fitz.Rect(0, start_y, page_width, end_y))\n",
    "    return pg"
   ]
  },
  {
   "cell_type": "code",
   "execution_count": 336,
   "metadata": {
    "collapsed": false
   },
   "outputs": [],
   "source": [
    "file_name = \"a-2\"\n",
    "prefix = \"output\"\n",
    "\n",
    "with fitz.open(f\"input/{file_name}.pdf\") as doc:\n",
    "    try:\n",
    "        makedirs(f\"{prefix}/{file_name}\")\n",
    "        print(\"done\")\n",
    "    except FileExistsError:\n",
    "        pass\n",
    "    page = list(doc.pages())[0]\n",
    "    # page = crop_pdf(page, f\"{datetime.now().year}\", \"Sprzed\", 72)\n",
    "    # pix = page.get_pixmap(dpi=300)\n",
    "    pix = page.get_pixmap(dpi=300, colorspace=fitz.csGRAY)\n",
    "    pix.invert_irect(pix.irect)\n",
    "    pdf_bytes = pix.tobytes()\n",
    "    img = Image.open(BytesIO(pdf_bytes))\n",
    "    df = image_to_data(img, \"pol\", config=\"--psm 4\", output_type=Output.DATAFRAME)"
   ]
  },
  {
   "cell_type": "code",
   "execution_count": 337,
   "metadata": {
    "collapsed": false
   },
   "outputs": [
    {
     "name": "stderr",
     "output_type": "stream",
     "text": [
      "C:\\Users\\wiatr\\AppData\\Local\\Temp\\ipykernel_63080\\2000145322.py:20: DeprecationWarning: DataFrameGroupBy.apply operated on the grouping columns. This behavior is deprecated, and in a future version of pandas the grouping columns will be excluded from the operation. Either pass `include_groups=False` to exclude the groupings or explicitly select the grouping columns after groupby to silence this warning.\n",
      "  gbl = gbl.apply(merge_rows)\n"
     ]
    }
   ],
   "source": [
    "df.drop([\"width\", \"height\", \"level\", \"left\", \"top\", \"conf\"], axis=1, inplace=True)\n",
    "# df_copy = df_copy.replace(\"\", None)\n",
    "df.dropna(subset=\"text\", inplace=True)\n",
    "# print(df_copy[\"text\"])\n",
    "df[\"text\"] = df[\"text\"].str.lower()\n",
    "shop = \"auchan\" if \"auchan\" in df[\"text\"].array else \"biedronka\"\n",
    "main_index = df[df[\"text\"] == \"niefiskalny\"][\"block_num\"].values[0]\n",
    "df = df[df[\"block_num\"] == main_index]\n",
    "df_copy_copy = df.copy()\n",
    "df_copy_copy.to_excel(f\"{prefix}/{file_name}/df_copy_copy.xlsx\")\n",
    "df_copy_copy = df_copy_copy.drop([\"block_num\"], axis=1)\n",
    "df_copy_copy.to_excel(f\"{prefix}/{file_name}/wat.xlsx\")\n",
    "\n",
    "df_copy_copy = df_copy_copy[df_copy_copy[\"par_num\"] == 1]\n",
    "df_copy_copy.to_excel(f\"{prefix}/{file_name}/wat2.xlsx\")\n",
    "\n",
    "gbl = df_copy_copy.groupby(\"line_num\")\n",
    "gbl = gbl.filter(lambda x: x[\"line_num\"].count() > 2)\n",
    "gbl = gbl.groupby(\"line_num\")\n",
    "gbl = gbl.apply(merge_rows)\n",
    "df_copy_copy.to_excel(f\"{prefix}/{file_name}/wat3.xlsx\")\n"
   ]
  },
  {
   "cell_type": "code",
   "execution_count": 338,
   "metadata": {
    "collapsed": false
   },
   "outputs": [],
   "source": [
    "np_array = gbl.to_numpy()\n",
    "indices = np.arange(5, len(np_array), 5)\n",
    "sub_arrays = np.split(np_array, indices)\n",
    "final_dframe = pd.DataFrame(sub_arrays, columns=[\"name\", \"amount\", \"star\", \"price_per_unit\", \"price\"])\n",
    "final_dframe = final_dframe.dropna()\n",
    "final_dframe = final_dframe.map(lambda x: x.replace(\",\", \".\"))\n",
    "# print(sub_arrays)\n",
    "# print(sub_arries)\n",
    "# print(pd.DataFrame(sub_arries, columns=[\"name\", \"amount\", \"star\", \"price_per_unit\", \"price\"]))\n",
    "# print(gbl[:5:])\n",
    "# print(final_dframe[\"price\"])\n",
    "index = 0\n",
    "try:\n",
    "    index = final_dframe[final_dframe[\"price\"] < \"0\"].index[0]\n",
    "except IndexError:\n",
    "    index = len(final_dframe[\"price\"])\n",
    "    pass\n",
    "\n",
    "# index = final_dframe[final_dframe[\"price\"] < \"0\"]\n",
    "\n",
    "\n",
    "final_dframe = final_dframe[:index]\n",
    "final_dframe = final_dframe.drop([\"star\"], axis=1)\n",
    "\n",
    "try:\n",
    "    tax_index = final_dframe[final_dframe[\"name\"].str.lower().str.replace(\".\", \"\") == \"sprzed\"].index[0]\n",
    "except IndexError:\n",
    "    tax_index = len(final_dframe)\n",
    "    pass\n",
    "\n",
    "final_dframe = final_dframe[:tax_index]\n",
    "final_dframe.to_excel(f\"{prefix}/{file_name}/final_dframe.xlsx\")"
   ]
  }
 ],
 "metadata": {
  "kernelspec": {
   "display_name": "Python 3",
   "language": "python",
   "name": "python3"
  },
  "language_info": {
   "codemirror_mode": {
    "name": "ipython",
    "version": 3
   },
   "file_extension": ".py",
   "mimetype": "text/x-python",
   "name": "python",
   "nbconvert_exporter": "python",
   "pygments_lexer": "ipython3",
   "version": "3.10.13"
  }
 },
 "nbformat": 4,
 "nbformat_minor": 0
}
