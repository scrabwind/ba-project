{
 "cells": [
  {
   "cell_type": "code",
   "execution_count": 46,
   "metadata": {
    "collapsed": true
   },
   "outputs": [],
   "source": [
    "import numpy as np\n",
    "from PIL import Image\n",
    "import fitz\n",
    "from pytesseract import image_to_data, Output\n",
    "from io import BytesIO\n",
    "import pandas as pd\n",
    "from os import makedirs"
   ]
  },
  {
   "cell_type": "code",
   "execution_count": 47,
   "metadata": {
    "collapsed": false
   },
   "outputs": [],
   "source": [
    "def apply_smth(df: pd.DataFrame):\n",
    "    to_be_merged = []\n",
    "    target_words = 4\n",
    "    remaining_words = df.shape[0] - target_words\n",
    "    # df = df.filter(lambda x: x[\"par_num\"] < 3)\n",
    "    df = df.reset_index()\n",
    "    if remaining_words == 0:\n",
    "        return df[\"text\"]\n",
    "    if remaining_words < 0:\n",
    "        return\n",
    "    for i in range(remaining_words):\n",
    "        to_be_merged.append(df.loc[i, \"text\"].capitalize())\n",
    "        if i != 0:\n",
    "            df = df.drop(i)\n",
    "    df.loc[0, \"text\"] = \"\".join(to_be_merged)\n",
    "    return df[\"text\"]"
   ]
  },
  {
   "cell_type": "code",
   "execution_count": 48,
   "metadata": {
    "collapsed": false
   },
   "outputs": [],
   "source": [
    "def crop_pdf(passed_page, start_word: str, end_word: str, dpi=300):\n",
    "    pg = passed_page\n",
    "    page_width = round(pg.rect.width)\n",
    "    start_rect = pg.get_textpage_ocr(3, \"pol\", dpi, True).search(start_word)[0].rect\n",
    "    end_rect = pg.get_textpage_ocr(3, \"pol\", dpi, True).search(end_word)[0].rect\n",
    "    start_y = start_rect.round().bottom_left[1]\n",
    "    end_y = end_rect.round().top_left[1]\n",
    "    pg.set_cropbox(fitz.Rect(0, start_y, page_width, end_y))\n",
    "    return pg"
   ]
  },
  {
   "cell_type": "code",
   "execution_count": 49,
   "metadata": {
    "collapsed": false
   },
   "outputs": [],
   "source": [
    "file_name = \"a-2\"\n",
    "prefix = \"output\"\n",
    "\n",
    "with fitz.open(f\"input/{file_name}.pdf\") as doc:\n",
    "    try:\n",
    "        makedirs(f\"{prefix}/{file_name}\")\n",
    "        print(\"done\")\n",
    "    except FileExistsError:\n",
    "        pass\n",
    "    page = list(doc.pages())[0]\n",
    "    pix = page.get_pixmap(dpi=300, colorspace=fitz.csGRAY)\n",
    "    pix.invert_irect(pix.irect)\n",
    "    pdf_bytes = pix.tobytes()\n",
    "    img = Image.open(BytesIO(pdf_bytes))\n",
    "    df = image_to_data(img, \"pol\", config=\"--psm 4\", output_type=Output.DATAFRAME)\n",
    "    df.to_excel(f\"{prefix}/{file_name}/df.xlsx\")"
   ]
  },
  {
   "cell_type": "code",
   "execution_count": 50,
   "metadata": {
    "collapsed": false
   },
   "outputs": [],
   "source": [
    "df_copy = df.copy()\n",
    "df_copy = df_copy.drop([\"width\", \"height\", \"level\", \"left\", \"top\", \"conf\"], axis=1)\n",
    "df_copy = df_copy.dropna(subset=\"text\")\n",
    "df_copy[\"text\"] = df_copy[\"text\"].str.lower()\n",
    "shop = \"auchan\" if \"auchan\" in df_copy[\"text\"].array else \"biedronka\"\n",
    "main_index = df_copy[df_copy[\"text\"] == \"niefiskalny\"][\"block_num\"].values[0]\n",
    "df_copy = df_copy[df_copy[\"block_num\"] == main_index]\n",
    "df_copy_copy = df_copy.copy()\n",
    "df_copy_copy.to_excel(f\"{prefix}/{file_name}/df_copy_copy.xlsx\")\n",
    "df_copy_copy = df_copy_copy.drop([\"block_num\"], axis=1)\n",
    "df_copy_copy = df_copy_copy[df_copy_copy[\"par_num\"] == 1]\n",
    "df_copy.to_excel(f\"{prefix}/{file_name}/df_copy.xlsx\")\n",
    "gbl = df_copy_copy.groupby(\"line_num\")\n",
    "gbl = gbl.filter(lambda x: x[\"line_num\"].count() > 2)\n",
    "gbl = gbl.groupby(\"line_num\")\n",
    "gbl = gbl.apply(apply_smth, include_groups=False)\n",
    "gbl = gbl.reset_index()\n",
    "gbl: pd.Series = gbl[0].dropna()\n",
    "gbl.to_excel(f\"{prefix}/{file_name}/gbl.xlsx\")\n",
    "np_array = gbl.values\n",
    "indices = np.arange(5, len(np_array), 5)\n",
    "sub_arrays = np.split(np_array, indices)\n",
    "final_dframe = pd.DataFrame(sub_arrays, columns=[\"name\", \"amount\", \"star\", \"price_per_unit\", \"price\"])\n",
    "final_dframe = final_dframe.dropna()\n",
    "final_dframe = final_dframe.map(lambda x: x.replace(\",\", \".\"))\n",
    "index = 0\n",
    "try:\n",
    "    index = final_dframe[final_dframe[\"price_per_unit\"] < \"0\"].index[0]\n",
    "except IndexError:\n",
    "    index = len(final_dframe[\"price\"])\n",
    "    pass\n",
    "\n",
    "final_dframe = final_dframe[:index]\n",
    "final_dframe = final_dframe.drop([\"star\"], axis=1)\n",
    "try:\n",
    "    tax_index = final_dframe[final_dframe[\"name\"].str.lower().str.replace(\".\", \"\") == \"sprzed\"].index[0]\n",
    "except IndexError:\n",
    "    tax_index = len(final_dframe[\"name\"])\n",
    "final_dframe[\"amount\"] = final_dframe[\"amount\"].str.replace(\"l\", \"1\")\n",
    "final_dframe = final_dframe[:tax_index]\n",
    "final_dframe.to_excel(f\"{prefix}/{file_name}/final_dframe.xlsx\")"
   ]
  },
  {
   "cell_type": "code",
   "execution_count": null,
   "metadata": {
    "collapsed": false
   },
   "outputs": [],
   "source": []
  }
 ],
 "metadata": {
  "kernelspec": {
   "display_name": "Python 3",
   "language": "python",
   "name": "python3"
  },
  "language_info": {
   "codemirror_mode": {
    "name": "ipython",
    "version": 3
   },
   "file_extension": ".py",
   "mimetype": "text/x-python",
   "name": "python",
   "nbconvert_exporter": "python",
   "pygments_lexer": "ipython3",
   "version": "3.10.13"
  }
 },
 "nbformat": 4,
 "nbformat_minor": 0
}
