{
 "cells": [
  {
   "cell_type": "code",
   "execution_count": null,
   "metadata": {
    "collapsed": true
   },
   "outputs": [],
   "source": [
    "import fitz\n",
    "from fitz import Page\n",
    "import numpy as np\n",
    "import pandas as pd\n",
    "from io import StringIO"
   ]
  },
  {
   "cell_type": "code",
   "execution_count": null,
   "metadata": {
    "collapsed": false
   },
   "outputs": [],
   "source": [
    "def add_nulls(search: list):\n",
    "    discount_idxs = []\n",
    "    array = search.copy()\n",
    "    for i, word in enumerate(array):\n",
    "        if word == \"Rabat\":\n",
    "            discount_idxs.append(i)\n",
    "    for index in reversed(discount_idxs):\n",
    "        array[index + 1:index + 1] = [\"0\", \"0\"]\n",
    "    return array"
   ]
  },
  {
   "cell_type": "code",
   "execution_count": null,
   "metadata": {
    "collapsed": false
   },
   "outputs": [],
   "source": [
    "def crop_pdf(passed_page: Page, start_word: str, end_word: str):\n",
    "    page_width = round(passed_page.rect.width)\n",
    "    start_rect = passed_page.get_textpage_ocr(3, \"pol\", 300, True).search(start_word)[0].rect\n",
    "    end_rect = passed_page.get_textpage_ocr(3, \"pol\", 300, True).search(end_word)[0].rect\n",
    "    start_y = start_rect.round().bottom_left[1]\n",
    "    end_y = end_rect.round().top_left[1]\n",
    "    passed_page.set_cropbox(fitz.Rect(0, start_y, page_width, end_y))\n"
   ]
  },
  {
   "cell_type": "code",
   "execution_count": null,
   "metadata": {
    "collapsed": false
   },
   "outputs": [],
   "source": [
    "def sum_discount(arg_pd: pd.DataFrame):\n",
    "    dfp = arg_pd.copy()\n",
    "    x = dfp[dfp[\"Nazwa\"] == \"Rabat\"]\n",
    "    for i in x.index.array:\n",
    "        main_price = dfp.loc[i - 1, \"Wartość\"]\n",
    "        discount_price = x[\"Cena\"][i]\n",
    "        new_price = np.round(main_price + discount_price, decimals=2)\n",
    "        dfp.loc[i - 1, \"Wartość\"] = new_price\n",
    "    dfp = dfp.drop(x.index.array)\n",
    "    return dfp\n"
   ]
  },
  {
   "cell_type": "code",
   "execution_count": null,
   "metadata": {
    "collapsed": false
   },
   "outputs": [],
   "source": [
    "def generate_df(file_name: str):\n",
    "    doc = fitz.open(f\"input/{file_name}.pdf\")\n",
    "    page = list(doc.pages())[0]\n",
    "    crop_pdf(page, \"NIEFISKALNY\", \"Sprzed\")\n",
    "    text_page = page.get_textpage_ocr(3, \"pol\", 300, True)\n",
    "    text = text_page.extractText()\n",
    "    lines = text.split('\\n')\n",
    "    lines = add_nulls(lines)\n",
    "    grouped_lines = [';'.join(lines[i:i+5]) for i in range(0, len(lines), 5)]\n",
    "    grouped_lines = add_nulls(grouped_lines)\n",
    "    result = '\\n'.join(grouped_lines)\n",
    "    result = result.encode(\"utf-8\").decode()\n",
    "    result = StringIO(result)\n",
    "    df_new = pd.read_table(result, sep=\";\")\n",
    "    df_new[\"Ilość\"] = df_new[\"Ilość\"].map(lambda row: row.split(\" x\")[0])\n",
    "    ints = df_new[[\"Ilość\", \"Cena\", \"Wartość\"]]\n",
    "    ints = ints.map(lambda series: series.replace(\",\", \".\")).map(np.float32)\n",
    "    df_new.update(ints)\n",
    "    df_new = sum_discount(df_new)\n",
    "    df_new = df_new.reset_index(drop=True)\n",
    "    doc.close()\n",
    "    return df_new"
   ]
  },
  {
   "cell_type": "code",
   "execution_count": null,
   "metadata": {
    "collapsed": false
   },
   "outputs": [],
   "source": [
    "df = generate_df(\"a\")\n",
    "print(df)"
   ]
  },
  {
   "cell_type": "code",
   "execution_count": null,
   "metadata": {
    "collapsed": false
   },
   "outputs": [],
   "source": []
  }
 ],
 "metadata": {
  "kernelspec": {
   "display_name": "Python 3",
   "language": "python",
   "name": "python3"
  },
  "language_info": {
   "codemirror_mode": {
    "name": "ipython",
    "version": 2
   },
   "file_extension": ".py",
   "mimetype": "text/x-python",
   "name": "python",
   "nbconvert_exporter": "python",
   "pygments_lexer": "ipython2",
   "version": "3.10.13"
  }
 },
 "nbformat": 4,
 "nbformat_minor": 0
}
