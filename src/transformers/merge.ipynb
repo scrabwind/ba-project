{
 "cells": [
  {
   "cell_type": "code",
   "execution_count": 128,
   "metadata": {},
   "outputs": [],
   "source": [
    "import fitz\n",
    "\n",
    "def merge_pages(input_file):\n",
    "    # Open the PDF document\n",
    "    src = fitz.open(input_file)\n",
    "    doc = fitz.open()\n",
    "\n",
    "    if len(doc) == 1:\n",
    "        return src\n",
    "\n",
    "    # total_width = src[0].width * len(src)\n",
    "    # total_height = src[0].height * len(src)\n",
    "    m = fitz.Matrix(1, len(src))\n",
    "    rect = fitz.Rect(src[0].rect)\n",
    "    rect.transform(m)\n",
    "\n",
    "    combined_page = doc.new_page(width=rect.width, height=rect.height)\n",
    "\n",
    "    for page in src:\n",
    "        i = page.number\n",
    "        page_rect = fitz.Rect(0, src[0].rect.height * i, src[0].rect.width, src[0].rect.height * (i + 1))\n",
    "        combined_page.show_pdf_page(page_rect, src, i)\n",
    "    return doc"
   ]
  },
  {
   "cell_type": "code",
   "execution_count": 129,
   "metadata": {},
   "outputs": [],
   "source": [
    "# Usage example:\n",
    "doc = merge_pages(\"input/biedronka/1.pdf\")  # You need to call merge_pages with your input pdf filename\n"
   ]
  },
  {
   "cell_type": "code",
   "execution_count": 130,
   "metadata": {},
   "outputs": [],
   "source": [
    "# doc = fitz.open(\"input/biedronka/1.pdf\")\n",
    "# first_page = doc[0]  # Get the first page of the PDF\n",
    "    \n",
    "#     # Create a new rectangle for the combined page. The width is adjusted to accommodate all pages side by side.\n",
    "# rect_combined = fitz.Rect(first_page.rect.tl, (first_page.rect.width * len(doc), first_page.rect.height))\n",
    "\n",
    "# print(rect_combined)"
   ]
  }
 ],
 "metadata": {
  "kernelspec": {
   "display_name": "baproject-Lb9KcLNd-py3.10",
   "language": "python",
   "name": "python3"
  },
  "language_info": {
   "codemirror_mode": {
    "name": "ipython",
    "version": 3
   },
   "file_extension": ".py",
   "mimetype": "text/x-python",
   "name": "python",
   "nbconvert_exporter": "python",
   "pygments_lexer": "ipython3",
   "version": "3.10.13"
  }
 },
 "nbformat": 4,
 "nbformat_minor": 2
}
